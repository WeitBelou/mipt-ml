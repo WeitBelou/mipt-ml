{
 "cells": [
  {
   "cell_type": "code",
   "execution_count": null,
   "metadata": {},
   "outputs": [],
   "source": [
    "% matplotlib inline\n",
    "\n",
    "import matplotlib.pyplot as plt\n",
    "import numpy as np\n",
    "from sklearn.datasets import load_iris\n",
    "\n",
    "iris = load_iris()\n",
    "iris_x = iris.data\n",
    "iris_y = iris.target\n"
   ]
  },
  {
   "cell_type": "code",
   "execution_count": null,
   "metadata": {},
   "outputs": [],
   "source": [
    "# Train model\n",
    "from sklearn.neighbors import KNeighborsClassifier\n",
    "\n",
    "knn = KNeighborsClassifier(n_neighbors=15).fit(\n",
    "    iris_x, iris_y,\n",
    ")\n",
    "knn\n"
   ]
  },
  {
   "cell_type": "code",
   "execution_count": null,
   "metadata": {},
   "outputs": [],
   "source": [
    "import seaborn as sns\n",
    "sns.set_style('whitegrid')\n",
    "\n",
    "FEATURES_PAIRS = [\n",
    "    [0, 1], [0, 2], [0, 3],\n",
    "    [1, 2], [1, 3], [2, 3],\n",
    "]\n",
    "\n",
    "for idx, pair in enumerate(FEATURES_PAIRS):\n",
    "    # Create subplot for selected pair of features\n",
    "    plt.subplot(2, 3, idx + 1)\n",
    "\n",
    "    plt.xlabel(iris.feature_names[pair[0]])\n",
    "    plt.ylabel(iris.feature_names[pair[1]])\n",
    "\n",
    "    # Filter data by chosen features and train model on them\n",
    "    iris_x, iris_y = iris.data[:, pair], iris.target\n",
    "    clf = KNeighborsClassifier().fit(iris_x, iris_y)\n",
    "\n",
    "    # Generate data to visualize boundaries\n",
    "    x, y = iris_x[:, 0], iris_x[:, 1]\n",
    "    xx, yy = np.meshgrid(\n",
    "        np.arange(x.min() - 1, x.max() + 1, 0.02),\n",
    "        np.arange(y.min() - 1, y.max() + 1, 0.02),\n",
    "    )\n",
    "    z = clf.predict(np.c_[xx.ravel(), yy.ravel()])\n",
    "    z = z.reshape(xx.shape)\n",
    "\n",
    "    # Plot boundaries\n",
    "    plt.contourf(xx, yy, z, cmap=plt.cm.RdYlBu)\n",
    "\n",
    "    # Plot training points\n",
    "    for i, color in enumerate(['r', 'y', 'b']):\n",
    "        indices = iris_y == i\n",
    "        plt.scatter(\n",
    "            x=iris_x[indices, 0], y=iris_x[indices, 1],\n",
    "            c=color, edgecolors='k', s=15,\n",
    "            label=iris.target_names[i],\n",
    "        )\n",
    "\n",
    "plt.suptitle('Class boundaries of a KNN Classifier using paired features')\n",
    "plt.legend(loc='lower right')\n",
    "\n",
    "plt.show()\n"
   ]
  },
  {
   "cell_type": "code",
   "execution_count": null,
   "metadata": {},
   "outputs": [],
   "source": []
  }
 ],
 "metadata": {
  "kernelspec": {
   "display_name": "Python 3",
   "language": "python",
   "name": "python3"
  },
  "language_info": {
   "codemirror_mode": {
    "name": "ipython",
    "version": 3
   },
   "file_extension": ".py",
   "mimetype": "text/x-python",
   "name": "python",
   "nbconvert_exporter": "python",
   "pygments_lexer": "ipython3",
   "version": "3.7.0"
  }
 },
 "nbformat": 4,
 "nbformat_minor": 1
}
