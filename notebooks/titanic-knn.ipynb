{
 "cells": [
  {
   "cell_type": "code",
   "execution_count": null,
   "metadata": {
    "_cell_guid": "b1076dfc-b9ad-4769-8c92-a6c4dae69d19",
    "_uuid": "8f2839f25d086af736a60e9eeb907d3b93b6e0e5"
   },
   "outputs": [],
   "source": [
    "%matplotlib inline\n",
    "import numpy as np\n",
    "import pandas as pd\n",
    "import seaborn as sns\n",
    "sns.set_style('whitegrid')\n",
    "\n",
    "train = pd.read_csv('../datasets/titanic/train.csv')\n",
    "\n",
    "train.sample(10)"
   ]
  },
  {
   "cell_type": "code",
   "execution_count": null,
   "metadata": {
    "_cell_guid": "b1076dfc-b9ad-4769-8c92-a6c4dae69d19",
    "_uuid": "8f2839f25d086af736a60e9eeb907d3b93b6e0e5",
    "scrolled": false
   },
   "outputs": [],
   "source": [
    "train.isna().sum()"
   ]
  },
  {
   "cell_type": "code",
   "execution_count": null,
   "metadata": {
    "_uuid": "26e65dfcaba25ceafadaf3eb98fa39735d9b599e",
    "scrolled": false
   },
   "outputs": [],
   "source": [
    "train.Embarked.unique()"
   ]
  },
  {
   "cell_type": "markdown",
   "metadata": {
    "_uuid": "438a81949829c6d1d836ebf748ac4d44161e33df"
   },
   "source": [
    "## Preprocess data"
   ]
  },
  {
   "cell_type": "code",
   "execution_count": null,
   "metadata": {
    "_uuid": "ee2bd558eeafe92be0163a0d2179ef57949a45da"
   },
   "outputs": [],
   "source": [
    "def normalize_data(df: pd.DataFrame) -> pd.DataFrame:\n",
    "    \"\"\"\n",
    "    Convert all features to numeric\n",
    "    \"\"\"\n",
    "    new_df = df.copy(deep=True)\n",
    "\n",
    "    new_df['Child'] = new_df.Age.fillna(new_df.Age.median()).map(lambda x: int(x <= 16))\n",
    "    \n",
    "    new_df.Fare.fillna(new_df.Age.mean(), inplace=True)\n",
    "\n",
    "    new_df.Sex = new_df.Sex.map({\n",
    "        'male': 0,\n",
    "        'female': 1,\n",
    "    })\n",
    "\n",
    "    new_df.drop([\n",
    "        'Ticket',\n",
    "        'PassengerId',\n",
    "        'Cabin',\n",
    "        'Name',\n",
    "        'Age',\n",
    "    ], axis=1, inplace=True)\n",
    "\n",
    "    new_df.Embarked.fillna('S', inplace=True)\n",
    "    new_df.Embarked = new_df.Embarked.map({\n",
    "        'S': 0,\n",
    "        'C': 1,\n",
    "        'Q': 2,\n",
    "    })\n",
    "\n",
    "    return new_df"
   ]
  },
  {
   "cell_type": "code",
   "execution_count": null,
   "metadata": {
    "_uuid": "72b55eb0cea5a9ebb9c0e9ce66f84dcc128998fb"
   },
   "outputs": [],
   "source": [
    "normalized_train = normalize_data(train)\n",
    "normalized_train.sample(10)"
   ]
  },
  {
   "cell_type": "markdown",
   "metadata": {
    "_uuid": "13c9e099f091ca9a53388ed560648df454c372ad"
   },
   "source": [
    "## Look into data"
   ]
  },
  {
   "cell_type": "markdown",
   "metadata": {
    "_uuid": "b50abd614dbcc4e31765aa05c17bf3b901a4985e"
   },
   "source": [
    "### Sex"
   ]
  },
  {
   "cell_type": "code",
   "execution_count": null,
   "metadata": {
    "_uuid": "00a30add74ccd238f3414fca8a83a627a7b3e6b9",
    "scrolled": true
   },
   "outputs": [],
   "source": [
    "sns.catplot(x='Sex', y='Survived', kind='bar', data=normalized_train)"
   ]
  },
  {
   "cell_type": "markdown",
   "metadata": {
    "_uuid": "6c3b767ab9947c0288fce73280291f4fdbfcf28e"
   },
   "source": [
    "### Children"
   ]
  },
  {
   "cell_type": "code",
   "execution_count": null,
   "metadata": {
    "_uuid": "fcfb587f33234d962f17d659afbed5208b5df908"
   },
   "outputs": [],
   "source": [
    "sns.catplot(x='Child', y='Survived', kind='bar', data=normalized_train)"
   ]
  },
  {
   "cell_type": "markdown",
   "metadata": {
    "_uuid": "2d88d7c2ebad44a7086d9df5cbdc6b65c350705e"
   },
   "source": [
    "### Money"
   ]
  },
  {
   "cell_type": "code",
   "execution_count": null,
   "metadata": {
    "_kg_hide-output": false,
    "_uuid": "ded8e25e142a8a67b1a832e4427ee563c5342c2d",
    "scrolled": true
   },
   "outputs": [],
   "source": [
    "sns.catplot(x='Pclass', y='Survived', kind='point', hue='Sex', data=normalized_train)"
   ]
  },
  {
   "cell_type": "markdown",
   "metadata": {
    "_uuid": "908fbfb9d68d93b827a9cadd3afd777c3c46fdeb"
   },
   "source": [
    "### Family"
   ]
  },
  {
   "cell_type": "code",
   "execution_count": null,
   "metadata": {
    "_uuid": "e6e86e19b238c36decaf39504999803e2431f1e2"
   },
   "outputs": [],
   "source": [
    "sns.catplot(x='SibSp', y='Survived', kind='bar', hue='Sex', data=normalized_train)"
   ]
  },
  {
   "cell_type": "code",
   "execution_count": null,
   "metadata": {
    "_uuid": "2b125b225199f458975447b4aac87329c0c16a38",
    "scrolled": true
   },
   "outputs": [],
   "source": [
    "sns.catplot(x='Parch', y='Survived', kind='bar', hue='Sex', data=normalized_train)"
   ]
  },
  {
   "cell_type": "markdown",
   "metadata": {
    "_uuid": "9039756f9e980c18e62734619b8e8dacfbad70ed"
   },
   "source": [
    "### Fit model"
   ]
  },
  {
   "cell_type": "code",
   "execution_count": null,
   "metadata": {
    "_uuid": "6e670d90e4b356aed6fae96f0ea839a24d3108f3"
   },
   "outputs": [],
   "source": [
    "from sklearn.model_selection import train_test_split\n",
    "\n",
    "X = normalized_train.drop('Survived', axis=1)\n",
    "y = normalized_train.Survived\n",
    "\n",
    "X_train, X_test, y_train, y_test = train_test_split(X, y, test_size=0.33,random_state=98)"
   ]
  },
  {
   "cell_type": "code",
   "execution_count": null,
   "metadata": {
    "_uuid": "d29079901227650d160be6f97355c26412343c9a",
    "scrolled": false
   },
   "outputs": [],
   "source": [
    "from sklearn.neighbors import KNeighborsClassifier\n",
    "from sklearn.model_selection import GridSearchCV\n",
    "\n",
    "knn = KNeighborsClassifier( )\n",
    "\n",
    "grid = GridSearchCV(\n",
    "    knn,\n",
    "    dict(n_neighbors=list(range(1,10)), weights=['uniform', 'distance']),\n",
    "    cv=10, scoring = 'accuracy',\n",
    ")\n",
    "grid.fit(X_train, y_train)"
   ]
  },
  {
   "cell_type": "code",
   "execution_count": null,
   "metadata": {
    "_uuid": "f73a6cf68511d62dabe54beb46e51ac3f235da5e"
   },
   "outputs": [],
   "source": [
    "print(f'Best score: {grid.best_score_}')"
   ]
  },
  {
   "cell_type": "code",
   "execution_count": null,
   "metadata": {
    "_uuid": "893b8364d3a545af7f9bf16f094af9dee8f5f8b0"
   },
   "outputs": [],
   "source": [
    "print (f'Best Parameters: {grid.best_params_}')"
   ]
  },
  {
   "cell_type": "code",
   "execution_count": null,
   "metadata": {
    "_uuid": "ea114edb73552dabcd241a7741d75acc5d1f97b8"
   },
   "outputs": [],
   "source": [
    "print (f'Best Estimator: {grid.best_estimator_}')"
   ]
  },
  {
   "cell_type": "markdown",
   "metadata": {
    "_uuid": "e4fdbc927aa52ebfeb7065d84223b265e8fba6ed"
   },
   "source": [
    "### Check accuracy"
   ]
  },
  {
   "cell_type": "code",
   "execution_count": null,
   "metadata": {
    "_uuid": "a8a5f8c87b8d704280341cead438ad7add99b8fe"
   },
   "outputs": [],
   "source": [
    "from sklearn.metrics import accuracy_score\n",
    "\n",
    "print(f'Accuracy: {accuracy_score(y_test, grid.predict(X_test))}')"
   ]
  },
  {
   "cell_type": "markdown",
   "metadata": {
    "_uuid": "5d219a58eb98bdea2bbb5a98a82f6db8349841db"
   },
   "source": [
    "### Write solition"
   ]
  },
  {
   "cell_type": "code",
   "execution_count": null,
   "metadata": {
    "_uuid": "b777bc361d22d9d3a3c27cf6d78062a04277bf98"
   },
   "outputs": [],
   "source": [
    "test = pd.read_csv('../datasets/titanic/test.csv')"
   ]
  },
  {
   "cell_type": "code",
   "execution_count": null,
   "metadata": {
    "_uuid": "cfa23e5f745b53a8d60bace5aa3c1e23b0770147"
   },
   "outputs": [],
   "source": [
    "passenger_id = test.PassengerId\n",
    "normalized_test = normalize_data(test)\n",
    "\n",
    "normalized_test.sample(10)"
   ]
  },
  {
   "cell_type": "code",
   "execution_count": null,
   "metadata": {
    "_uuid": "c819f898c0e3e0007133c6626b2994621a9e41a9"
   },
   "outputs": [],
   "source": [
    "survived = grid.predict(normalized_test)"
   ]
  },
  {
   "cell_type": "code",
   "execution_count": null,
   "metadata": {
    "_uuid": "a6c338536b381ca826cbd92c18be629fc5a90298"
   },
   "outputs": [],
   "source": [
    "import os\n",
    "if not os.path.exists('../results/titanic'):\n",
    "    os.makedirs('../results/titanic')\n",
    "\n",
    "pd.DataFrame(dict(\n",
    "    PassengerId=passenger_id,\n",
    "    Survived=survived,\n",
    ")).to_csv('../results/titanic/result.csv', index=False)"
   ]
  },
  {
   "cell_type": "code",
   "execution_count": null,
   "metadata": {
    "_uuid": "293cec04200ebfb3fa046da206f5960c56b3ba23"
   },
   "outputs": [],
   "source": []
  }
 ],
 "metadata": {
  "kernelspec": {
   "display_name": "Python 3",
   "language": "python",
   "name": "python3"
  },
  "language_info": {
   "codemirror_mode": {
    "name": "ipython",
    "version": 3
   },
   "file_extension": ".py",
   "mimetype": "text/x-python",
   "name": "python",
   "nbconvert_exporter": "python",
   "pygments_lexer": "ipython3",
   "version": "3.7.0"
  }
 },
 "nbformat": 4,
 "nbformat_minor": 1
}
